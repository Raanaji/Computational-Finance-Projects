{
 "cells": [
  {
   "cell_type": "markdown",
   "metadata": {},
   "source": [
    "# Fourier Methods for Option Pricing"
   ]
  },
  {
   "cell_type": "code",
   "execution_count": 1,
   "metadata": {},
   "outputs": [],
   "source": [
    "# Importing useful libraries\n",
    "import numpy as np\n",
    "from scipy.stats import norm\n",
    "from scipy import stats\n",
    "import matplotlib.pyplot as plt\n",
    "%matplotlib inline"
   ]
  },
  {
   "cell_type": "markdown",
   "metadata": {},
   "source": [
    "### To Initialize the relevant parameters"
   ]
  },
  {
   "cell_type": "code",
   "execution_count": 2,
   "metadata": {},
   "outputs": [],
   "source": [
    "#Share specific information\n",
    "r=0.1\n",
    "S0 = 120\n",
    "sigma = 0.25"
   ]
  },
  {
   "cell_type": "code",
   "execution_count": 3,
   "metadata": {},
   "outputs": [],
   "source": [
    "#Call option specific information\n",
    "K=100\n",
    "T=2\n",
    "k_log=np.log(K)"
   ]
  },
  {
   "cell_type": "markdown",
   "metadata": {},
   "source": [
    "# To Calculate the analytical price for the put option using the closed-form solution"
   ]
  },
  {
   "cell_type": "markdown",
   "metadata": {},
   "source": [
    "### Analytical method using put option pricing formula"
   ]
  },
  {
   "cell_type": "code",
   "execution_count": 4,
   "metadata": {},
   "outputs": [
    {
     "name": "stdout",
     "output_type": "stream",
     "text": [
      "2.4693867508857075 is the analytical put price using put option formula\n"
     ]
    }
   ],
   "source": [
    "#Code for analytical price of European put option\n",
    "d_1_stock=(np.log(S0/K)+(r+sigma**2/2)*(T))/(sigma*np.sqrt(T))\n",
    "d_2_stock=d_1_stock-sigma*np.sqrt(T)\n",
    "analytic_putprice=-S0*norm.cdf(-d_1_stock)+K*np.exp(-r*(T))*norm.cdf(-d_2_stock)\n",
    "print(analytic_putprice,'is the analytical put price using put option formula')"
   ]
  },
  {
   "cell_type": "markdown",
   "metadata": {},
   "source": [
    "### Or We can use definition"
   ]
  },
  {
   "cell_type": "code",
   "execution_count": 5,
   "metadata": {},
   "outputs": [
    {
     "name": "stdout",
     "output_type": "stream",
     "text": [
      "2.4693867508857075 is the analytical put price using put option formula\n"
     ]
    }
   ],
   "source": [
    "def analytical_price(r, sigma, S0, K, T, t=0):\n",
    "    d1 = (np.log(S0/K) + (r + sigma**2/2)*(T-t)) / (sigma*np.sqrt(T-t))\n",
    "    d2 = d1 - sigma*np.sqrt(T-t)\n",
    "\n",
    "    phi = stats.norm.cdf\n",
    "    return -S0*phi(-d1) + K*np.exp(-r*(T-t))*phi(-d2)\n",
    "\n",
    "analytic_price = analytical_price(r, sigma, S0, K, T)\n",
    "print(format(analytic_price),'is the analytical put price using put option formula')"
   ]
  },
  {
   "cell_type": "markdown",
   "metadata": {},
   "source": [
    "### Analytical method using put call parity"
   ]
  },
  {
   "cell_type": "code",
   "execution_count": 6,
   "metadata": {},
   "outputs": [
    {
     "name": "stdout",
     "output_type": "stream",
     "text": [
      "40.596311443087515 is the analytical call price\n",
      "2.469386750885704 is the analytical put price using the put call parity\n"
     ]
    }
   ],
   "source": [
    "#Code for analytical solution for vanilla European call option\n",
    "d_1_stock=(np.log(S0/K)+(r+sigma**2/2)*(T))/(sigma*np.sqrt(T))\n",
    "d_2_stock=d_1_stock-sigma*np.sqrt(T)\n",
    "analytic_callprice=S0*norm.cdf(d_1_stock)-K*np.exp(-r*(T))*norm.cdf(d_2_stock)\n",
    "analytic_put_price=analytic_callprice-S0+K*np.exp(-r*(T))\n",
    "print(analytic_callprice,'is the analytical call price')\n",
    "print(analytic_put_price,'is the analytical put price using the put call parity')"
   ]
  },
  {
   "cell_type": "markdown",
   "metadata": {},
   "source": [
    "# Fourier Transfor Method"
   ]
  },
  {
   "cell_type": "code",
   "execution_count": 7,
   "metadata": {},
   "outputs": [],
   "source": [
    "# Normal random variable function\n",
    "\n",
    "def pf(t, mu=0, s=1):\n",
    "    return np.exp(1j*t*mu - (t**2)*(s**2) / 2)\n",
    "\n",
    "def c_M1(t):\n",
    "    return pf(t, mu=np.log(S0) + (r - sigma**2/2)*T, s=sigma*np.sqrt(T))\n",
    "def c_M2(t):\n",
    "    return pf(t, mu=np.log(S0) + (r + sigma**2/2)*T, s=sigma*np.sqrt(T))"
   ]
  },
  {
   "cell_type": "code",
   "execution_count": 8,
   "metadata": {},
   "outputs": [],
   "source": [
    "# choosing upper limit of the integral and the number of partitions to sum over\n",
    "\n",
    "t_max = 40\n",
    "N = 200\n",
    "\n",
    "def integr(f, l, r, N=200):\n",
    "    delta_t = (r - l) / N\n",
    "    from_1_to_N = np.linspace(1,N,N)\n",
    "    t_n = (from_1_to_N - 1/2)*delta_t\n",
    "    return np.sum(f(t_n)*delta_t)\n",
    "\n",
    "def I(f):\n",
    "    return lambda x: (np.exp(-1j*x*np.log(K))*f(x)).imag/x\n",
    "\n",
    "first_integral = integr(I(c_M2), 0, t_max, N=N) \n",
    "second_integral = integr(I(c_M1), 0, t_max, N=N) "
   ]
  },
  {
   "cell_type": "markdown",
   "metadata": {},
   "source": [
    "### **printing Fourier put price**"
   ]
  },
  {
   "cell_type": "code",
   "execution_count": 9,
   "metadata": {},
   "outputs": [
    {
     "name": "stdout",
     "output_type": "stream",
     "text": [
      "2.4693867508857217 is the fourier put price\n"
     ]
    }
   ],
   "source": [
    "fourier_put_price = -S0*(1/2 - first_integral/np.pi) + np.exp(-r*T)*K*(1/2 - second_integral/np.pi)\n",
    "print(fourier_put_price,\"is the fourier put price\")"
   ]
  },
  {
   "cell_type": "markdown",
   "metadata": {},
   "source": [
    "# COS Method"
   ]
  },
  {
   "cell_type": "code",
   "execution_count": 10,
   "metadata": {},
   "outputs": [],
   "source": [
    "# defining two useful functions upslon an psi\n",
    "def upsilon_n(c, d, n, b1, b2):\n",
    "    npi = n*np.pi/(b2-b1)\n",
    "    npi_c = npi * (c - b1)\n",
    "    npi_d = npi * (d - b1)\n",
    "    numerator = np.cos(npi_d)*np.exp(d) - np.cos(npi_c)*np.exp(c) + npi * (np.sin(npi_d) * np.exp(d) - np.sin(npi_c) * np.exp(c))\n",
    "    return numerator / (1+ npi**2)\n",
    "def psi_n(c, d, n, b1, b2):\n",
    "    if n==0:\n",
    "        return d-c\n",
    "    else:\n",
    "        return (b2 - b1)/(n*np.pi) * (np.sin(n*np.pi*(d - b1)/(b2 - b1)) - np.sin(n*np.pi*(c - b1)/(b2 - b1)))"
   ]
  },
  {
   "cell_type": "code",
   "execution_count": 11,
   "metadata": {},
   "outputs": [],
   "source": [
    "# Useful integral\n",
    "\n",
    "def v_n(n, K, b1, b2):\n",
    "    return 2/(b2 - b1) * K * (- upsilon_n(b1, 0, n, b1, b2) + psi_n(b1, 0, n, b1, b2))\n",
    "\n",
    "def fourier_cos_put_price(r, sigma, S0, K, T, N, b1, b2):\n",
    "    mu = np.log(S0/K) + (r - sigma**2/2)*T\n",
    "    s = sigma*np.sqrt(T)\n",
    "    npi = lambda n: n*np.pi/(b2 - b1)\n",
    "    v = lambda n: v_n(n, K, b1, b2)\n",
    "    first_term = v(0)*pf(0, mu=mu, s=s)/2\n",
    "    second_term = np.sum([(pf(npi(n), mu=mu, s=s) * np.exp(-1j*b1*npi(n))).real * v(n) for n in range(1, N)])\n",
    "    return np.exp(-r*T)*(first_term + second_term).real"
   ]
  },
  {
   "cell_type": "code",
   "execution_count": 12,
   "metadata": {},
   "outputs": [],
   "source": [
    "# define the cumulants used for calculating b1 and b2\n",
    "c1 = r\n",
    "c2 = sigma**2 * T\n",
    "c4 = 0\n",
    "L = 10\n",
    "b1 = c1 - L*np.sqrt(c2 + np.sqrt(c4))\n",
    "b2 = c1 + L*np.sqrt(c2 + np.sqrt(c4))"
   ]
  },
  {
   "cell_type": "code",
   "execution_count": 13,
   "metadata": {},
   "outputs": [],
   "source": [
    "def logchar_func(u, S0, r, sigma, K, T):\n",
    "    return np.exp(1j*u*(np.log(S0/K) + (r-sigma**2/2)*T) - (sigma**2)*T*(u**2)/2)\n",
    "\n",
    "def put_price(N, S0, sigma, r, K, T, b2, b1):\n",
    "    price = v_n(0, K, b1, b2) * logchar_func(0, S0, r, sigma, K, T)/2\n",
    "    for n in range(1, N):\n",
    "        price += logchar_func(n*np.pi/(b2-b1), S0, r, sigma, K, T) * np.exp(-1j*n*np.pi*b1/(b2-b1)) * v_n(n, K, b1, b2)\n",
    "    return price.real * np.exp(-r*T)"
   ]
  },
  {
   "cell_type": "code",
   "execution_count": 14,
   "metadata": {},
   "outputs": [
    {
     "name": "stdout",
     "output_type": "stream",
     "text": [
      "2.469386750885702 is the Fourier COS price for put option\n"
     ]
    }
   ],
   "source": [
    "fourier_cos_prices = [fourier_cos_put_price(r, sigma, S0, K, T, n, b1, b2) for n in range (1, 51)]\n",
    "print(format(fourier_cos_prices[-1]),\"is the Fourier COS price for put option\")"
   ]
  },
  {
   "cell_type": "markdown",
   "metadata": {},
   "source": [
    "# Plotting Results"
   ]
  },
  {
   "cell_type": "code",
   "execution_count": 15,
   "metadata": {},
   "outputs": [
    {
     "data": {
      "text/plain": [
       "[]"
      ]
     },
     "execution_count": 15,
     "metadata": {},
     "output_type": "execute_result"
    },
    {
     "data": {
      "image/png": "[encoded data removed]",
      "text/plain": [
       "<Figure size 432x288 with 1 Axes>"
      ]
     },
     "metadata": {
      "needs_background": "light"
     },
     "output_type": "display_data"
    }
   ],
   "source": [
    "plt.plot(fourier_cos_prices)\n",
    "plt.plot([analytic_put_price] * 50)\n",
    "plt.xlabel('N')\n",
    "plt.ylabel('put price')\n",
    "plt.plot()"
   ]
  },
  {
   "cell_type": "code",
   "execution_count": 16,
   "metadata": {},
   "outputs": [
    {
     "data": {
      "text/plain": [
       "Text(0, 0.5, 'Log absolute error')"
      ]
     },
     "execution_count": 16,
     "metadata": {},
     "output_type": "execute_result"
    },
    {
     "data": {
      "image/png": "[encoded data removed]",
      "text/plain": [
       "<Figure size 432x288 with 1 Axes>"
      ]
     },
     "metadata": {
      "needs_background": "light"
     },
     "output_type": "display_data"
    }
   ],
   "source": [
    "# Plotting the log absolute error\n",
    "plt.plot(np.log(np.absolute(fourier_cos_prices-analytic_putprice)),'r')\n",
    "plt.xlabel(\"N\")\n",
    "plt.ylabel(\"Log absolute error\")"
   ]
  },
  {
   "cell_type": "markdown",
   "metadata": {},
   "source": [
    "# Fast Fourier Transform"
   ]
  },
  {
   "cell_type": "code",
   "execution_count": 17,
   "metadata": {},
   "outputs": [],
   "source": [
    "def FFT_put_price (r, sigma, S0, K, T, N=2**10, delta=0.25, alpha=-2):\n",
    "    def c_func(v):\n",
    "        val1 = np.exp(-r*T) * pf(v-(alpha+1)*1j, mu=np.log(S0)+(r-sigma**2/2)*T, s=sigma*np.sqrt(T))\n",
    "        val2 = alpha**2 + alpha - v**2 + 1j*(2*alpha + 1)*v\n",
    "        return val1/val2\n",
    "    \n",
    "    n = np.array(range(N))\n",
    "    delta_k = 2*np.pi/(N*delta)\n",
    "    b = delta_k * (N-1)/2\n",
    "    \n",
    "    log_strike = np.linspace(-b, b, N)\n",
    "    \n",
    "    x = np.exp(1j*b*n*delta)*c_func(n*delta)*delta\n",
    "    x[0] = x[0]*0.5\n",
    "    x[-1] = x[-1]*0.5\n",
    "    \n",
    "    x_hat = np.fft.fft(x).real\n",
    "    fft_put = np.exp(-alpha*log_strike)*x_hat/np.pi\n",
    "    \n",
    "    return log_strike, fft_put"
   ]
  },
  {
   "cell_type": "code",
   "execution_count": 18,
   "metadata": {},
   "outputs": [],
   "source": [
    "log_strike, fft_price = FFT_put_price(r, sigma, S0, K, T)\n",
    "analytic_prices = np.array([analytical_price(r, sigma, S0, np.exp(log_strike), T)]).reshape(log_strike.shape) "
   ]
  },
  {
   "cell_type": "code",
   "execution_count": 19,
   "metadata": {},
   "outputs": [
    {
     "data": {
      "image/png": "[encoded data removed]",
      "text/plain": [
       "<Figure size 432x288 with 1 Axes>"
      ]
     },
     "metadata": {
      "needs_background": "light"
     },
     "output_type": "display_data"
    }
   ],
   "source": [
    "plt.plot(np.exp(log_strike), analytic_prices, label=\"Analytical Price\")\n",
    "plt.plot(np.exp(log_strike), fft_price, label=\"FFT Price\") \n",
    "plt.axis([0,150,0,10]) # rescale\n",
    "plt.xlabel(\"Strike\")\n",
    "plt.ylabel(\"Put Price\")\n",
    "plt.legend(loc=\"upper right\")\n",
    "plt.show() "
   ]
  },
  {
   "cell_type": "markdown",
   "metadata": {},
   "source": [
    "**Within this above graph there are two combined graph, the blue graph fr analytical price and yellow grapg for FFT price**"
   ]
  },
  {
   "cell_type": "code",
   "execution_count": 20,
   "metadata": {},
   "outputs": [
    {
     "data": {
      "image/png": "[encoded data removed]",
      "text/plain": [
       "<Figure size 432x288 with 1 Axes>"
      ]
     },
     "metadata": {
      "needs_background": "light"
     },
     "output_type": "display_data"
    }
   ],
   "source": [
    "plt.plot(np.exp(log_strike), np.absolute(fft_price - analytic_prices))\n",
    "plt.axis([0, 150, 0, 0.00000001])\n",
    "plt.xlabel(\"Strike\")\n",
    "plt.ylabel(\"Absolute Error\")\n",
    "plt.show()"
   ]
  },
  {
   "cell_type": "markdown",
   "metadata": {},
   "source": [
    "## For N=$2^{10}$ we have"
   ]
  },
  {
   "cell_type": "code",
   "execution_count": 21,
   "metadata": {},
   "outputs": [
    {
     "name": "stdout",
     "output_type": "stream",
     "text": [
      "Nearest strike price is: 99.6777\n",
      "the FFT price at this trike is: 2.4215\n",
      "the Analytical price at this trike is: 2.4215\n"
     ]
    }
   ],
   "source": [
    "K_near = np.abs(log_strike - np.log(K)).argmin()\n",
    "print(f\"Nearest strike price is: {np.exp(log_strike[K_near]):.4f}\")\n",
    "print(\"the FFT price at this trike is: {0:.4f}\".format(fft_price[K_near]))\n",
    "print(\"the Analytical price at this trike is: {0:.4f}\".format(analytic_prices[K_near]))"
   ]
  },
  {
   "cell_type": "markdown",
   "metadata": {},
   "source": [
    "With these above nearest value we can see that we are not enough closer to the strike K=100"
   ]
  }
 ],
 "metadata": {
  "kernelspec": {
   "display_name": "Python 3",
   "language": "python",
   "name": "python3"
  },
  "language_info": {
   "codemirror_mode": {
    "name": "ipython",
    "version": 3
   },
   "file_extension": ".py",
   "mimetype": "text/x-python",
   "name": "python",
   "nbconvert_exporter": "python",
   "pygments_lexer": "ipython3",
   "version": "3.8.8"
  }
 },
 "nbformat": 4,
 "nbformat_minor": 4
}
